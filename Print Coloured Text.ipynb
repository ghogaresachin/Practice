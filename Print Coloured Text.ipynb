{
 "cells": [
  {
   "cell_type": "code",
   "execution_count": 6,
   "id": "71f466c3",
   "metadata": {},
   "outputs": [
    {
     "name": "stdout",
     "output_type": "stream",
     "text": [
      "Hi My name is Sachin Ghogare I am your Machine Learning Instructor.\n",
      "Hi My name is Sachin Ghogare.\n",
      "Hi My name is Sachin Ghogare.\n"
     ]
    }
   ],
   "source": [
    "import colorama\n",
    "from colorama import Fore, Back, Style\n",
    "colorama.init(autoreset=True)\n",
    "\n",
    "print(Fore.BLUE+Back.YELLOW+\"Hi My name is Sachin Ghogare \"+ Fore.YELLOW+ Back.BLUE+\"I am your Machine Learning Instructor.\")\n",
    "print(Back.CYAN+\"Hi My name is Sachin Ghogare.\")\n",
    "print(Fore.RED + Back.GREEN+ \"Hi My name is Sachin Ghogare.\")"
   ]
  },
  {
   "cell_type": "code",
   "execution_count": null,
   "id": "b08c83fa",
   "metadata": {},
   "outputs": [],
   "source": []
  }
 ],
 "metadata": {
  "kernelspec": {
   "display_name": "Python 3 (ipykernel)",
   "language": "python",
   "name": "python3"
  },
  "language_info": {
   "codemirror_mode": {
    "name": "ipython",
    "version": 3
   },
   "file_extension": ".py",
   "mimetype": "text/x-python",
   "name": "python",
   "nbconvert_exporter": "python",
   "pygments_lexer": "ipython3",
   "version": "3.10.2"
  }
 },
 "nbformat": 4,
 "nbformat_minor": 5
}
