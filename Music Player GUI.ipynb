{
 "cells": [
  {
   "cell_type": "code",
   "execution_count": 1,
   "id": "e1c8f8c7",
   "metadata": {},
   "outputs": [
    {
     "name": "stdout",
     "output_type": "stream",
     "text": [
      "pygame 2.3.0 (SDL 2.24.2, Python 3.10.2)\n",
      "Hello from the pygame community. https://www.pygame.org/contribute.html\n"
     ]
    },
    {
     "ename": "OSError",
     "evalue": "[WinError 123] The filename, directory name, or volume label syntax is incorrect: ''",
     "output_type": "error",
     "traceback": [
      "\u001b[1;31m---------------------------------------------------------------------------\u001b[0m",
      "\u001b[1;31mOSError\u001b[0m                                   Traceback (most recent call last)",
      "Input \u001b[1;32mIn [1]\u001b[0m, in \u001b[0;36m<module>\u001b[1;34m\u001b[0m\n\u001b[0;32m      8\u001b[0m music_player\u001b[38;5;241m.\u001b[39mgeometry(\u001b[38;5;124m\"\u001b[39m\u001b[38;5;124m450x350\u001b[39m\u001b[38;5;124m\"\u001b[39m)\n\u001b[0;32m      9\u001b[0m directory \u001b[38;5;241m=\u001b[39m askdirectory()\n\u001b[1;32m---> 10\u001b[0m \u001b[43mos\u001b[49m\u001b[38;5;241;43m.\u001b[39;49m\u001b[43mchdir\u001b[49m\u001b[43m(\u001b[49m\u001b[43mdirectory\u001b[49m\u001b[43m)\u001b[49m\n\u001b[0;32m     11\u001b[0m song_list \u001b[38;5;241m=\u001b[39m os\u001b[38;5;241m.\u001b[39mlistdir()\n\u001b[0;32m     13\u001b[0m play_list \u001b[38;5;241m=\u001b[39m tkr\u001b[38;5;241m.\u001b[39mListbox(music_player, font\u001b[38;5;241m=\u001b[39m\u001b[38;5;124m\"\u001b[39m\u001b[38;5;124mHelvetica 12 bold\u001b[39m\u001b[38;5;124m\"\u001b[39m, bg\u001b[38;5;241m=\u001b[39m\u001b[38;5;124m'\u001b[39m\u001b[38;5;124myellow\u001b[39m\u001b[38;5;124m'\u001b[39m, selectmode\u001b[38;5;241m=\u001b[39mtkr\u001b[38;5;241m.\u001b[39mSINGLE)\n",
      "\u001b[1;31mOSError\u001b[0m: [WinError 123] The filename, directory name, or volume label syntax is incorrect: ''"
     ]
    }
   ],
   "source": [
    "import pygame\n",
    "import tkinter as tkr\n",
    "from tkinter.filedialog import askdirectory\n",
    "import os\n",
    "\n",
    "music_player = tkr.Tk()\n",
    "music_player.title(\"My Music Player\")\n",
    "music_player.geometry(\"450x350\")\n",
    "directory = askdirectory()\n",
    "os.chdir(directory)\n",
    "song_list = os.listdir()\n",
    "\n",
    "play_list = tkr.Listbox(music_player, font=\"Helvetica 12 bold\", bg='yellow', selectmode=tkr.SINGLE)\n",
    "for item in song_list:\n",
    "    pos = 0\n",
    "    play_list.insert(pos, item)\n",
    "    pos += 1\n",
    "pygame.init()\n",
    "pygame.mixer.init()\n",
    "\n",
    "def play():\n",
    "    pygame.mixer.music.load(play_list.get(tkr.ACTIVE))\n",
    "    var.set(play_list.get(tkr.ACTIVE))\n",
    "    pygame.mixer.music.play()\n",
    "def stop():\n",
    "    pygame.mixer.music.stop()\n",
    "def pause():\n",
    "    pygame.mixer.music.pause()\n",
    "def unpause():\n",
    "    pygame.mixer.music.unpause()\n",
    "Button1 = tkr.Button(music_player, width=5, height=3, font=\"Helvetica 12 bold\", text=\"PLAY\", command=play, bg=\"blue\", fg=\"white\")\n",
    "Button2 = tkr.Button(music_player, width=5, height=3, font=\"Helvetica 12 bold\", text=\"STOP\", command=stop, bg=\"red\", fg=\"white\")\n",
    "Button3 = tkr.Button(music_player, width=5, height=3, font=\"Helvetica 12 bold\", text=\"PAUSE\", command=pause, bg=\"purple\", fg=\"white\")\n",
    "Button4 = tkr.Button(music_player, width=5, height=3, font=\"Helvetica 12 bold\", text=\"UNPAUSE\", command=unpause, bg=\"orange\", fg=\"white\")\n",
    "\n",
    "var = tkr.StringVar() \n",
    "song_title = tkr.Label(music_player, font=\"Helvetica 12 bold\", textvariable=var)\n",
    "\n",
    "song_title.pack()\n",
    "Button1.pack(fill=\"x\")\n",
    "Button2.pack(fill=\"x\")\n",
    "Button3.pack(fill=\"x\")\n",
    "Button4.pack(fill=\"x\")\n",
    "play_list.pack(fill=\"both\", expand=\"yes\")\n",
    "music_player.mainloop()"
   ]
  },
  {
   "cell_type": "code",
   "execution_count": null,
   "id": "9083d650",
   "metadata": {},
   "outputs": [],
   "source": []
  }
 ],
 "metadata": {
  "kernelspec": {
   "display_name": "Python 3 (ipykernel)",
   "language": "python",
   "name": "python3"
  },
  "language_info": {
   "codemirror_mode": {
    "name": "ipython",
    "version": 3
   },
   "file_extension": ".py",
   "mimetype": "text/x-python",
   "name": "python",
   "nbconvert_exporter": "python",
   "pygments_lexer": "ipython3",
   "version": "3.10.2"
  }
 },
 "nbformat": 4,
 "nbformat_minor": 5
}
