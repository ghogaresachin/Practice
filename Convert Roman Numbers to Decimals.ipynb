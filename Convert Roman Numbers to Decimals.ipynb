{
 "cells": [
  {
   "cell_type": "code",
   "execution_count": 2,
   "id": "061d8f40",
   "metadata": {},
   "outputs": [],
   "source": [
    "tallies = {\n",
    "    'I': 1,\n",
    "    'V': 5,\n",
    "    'X': 10,\n",
    "    'L': 50,\n",
    "    'C': 100,\n",
    "    'D': 500,\n",
    "    'M': 1000,\n",
    "    # specify more numerals if you wish\n",
    "}\n",
    "\n",
    "def RomanNumeralToDecimal(romanNumeral):\n",
    "    sum = 0\n",
    "    for i in range(len(romanNumeral) - 1):\n",
    "        left = romanNumeral[i]\n",
    "        right = romanNumeral[i + 1]\n",
    "        if tallies[left] < tallies[right]:\n",
    "            sum -= tallies[left]\n",
    "        else:\n",
    "            sum += tallies[left]\n",
    "    sum += tallies[romanNumeral[-1]]\n",
    "    return sum"
   ]
  },
  {
   "cell_type": "code",
   "execution_count": 8,
   "id": "5e5117f6",
   "metadata": {},
   "outputs": [
    {
     "data": {
      "text/plain": [
       "10"
      ]
     },
     "execution_count": 8,
     "metadata": {},
     "output_type": "execute_result"
    }
   ],
   "source": [
    "RomanNumeralToDecimal('X')"
   ]
  },
  {
   "cell_type": "code",
   "execution_count": null,
   "id": "a56fa506",
   "metadata": {},
   "outputs": [],
   "source": []
  }
 ],
 "metadata": {
  "kernelspec": {
   "display_name": "Python 3 (ipykernel)",
   "language": "python",
   "name": "python3"
  },
  "language_info": {
   "codemirror_mode": {
    "name": "ipython",
    "version": 3
   },
   "file_extension": ".py",
   "mimetype": "text/x-python",
   "name": "python",
   "nbconvert_exporter": "python",
   "pygments_lexer": "ipython3",
   "version": "3.10.2"
  }
 },
 "nbformat": 4,
 "nbformat_minor": 5
}
